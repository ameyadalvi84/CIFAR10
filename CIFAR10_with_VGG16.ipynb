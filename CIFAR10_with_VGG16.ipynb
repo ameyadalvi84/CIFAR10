{
  "nbformat": 4,
  "nbformat_minor": 0,
  "metadata": {
    "colab": {
      "name": "CIFAR10 with VGG16.ipynb",
      "provenance": [],
      "collapsed_sections": [],
      "authorship_tag": "ABX9TyNhwlN/4LhDHu73uXs9o89+",
      "include_colab_link": true
    },
    "kernelspec": {
      "name": "python3",
      "display_name": "Python 3"
    },
    "accelerator": "GPU"
  },
  "cells": [
    {
      "cell_type": "markdown",
      "metadata": {
        "id": "view-in-github",
        "colab_type": "text"
      },
      "source": [
        "<a href=\"https://colab.research.google.com/github/ameyadalvi84/CIFAR10/blob/master/CIFAR10_with_VGG16.ipynb\" target=\"_parent\"><img src=\"https://colab.research.google.com/assets/colab-badge.svg\" alt=\"Open In Colab\"/></a>"
      ]
    },
    {
      "cell_type": "code",
      "metadata": {
        "id": "_ILTMhLfohiG",
        "colab_type": "code",
        "colab": {}
      },
      "source": [
        "import keras as K\n",
        "from keras import models, layers\n",
        "from keras.utils import to_categorical\n",
        "from keras.applications import VGG16\n",
        "import numpy as np\n",
        "import matplotlib.pyplot as plt\n",
        "from keras.datasets import cifar10\n",
        "\n",
        "%matplotlib inline"
      ],
      "execution_count": 0,
      "outputs": []
    },
    {
      "cell_type": "code",
      "metadata": {
        "id": "raSDRJQkqAYb",
        "colab_type": "code",
        "colab": {
          "base_uri": "https://localhost:8080/",
          "height": 72
        },
        "outputId": "5db9a799-a21c-409f-fc5a-2ce3a609b3e7"
      },
      "source": [
        "(train_images,train_labels),(test_images,test_labels) = cifar10.load_data()\n",
        "print(\"Shape of train_images : \", train_images.shape)\n",
        "print(\"Max value in train_images : \", train_images.max())\n",
        "print(\"Min value in train_images : \", train_images.min())"
      ],
      "execution_count": 16,
      "outputs": [
        {
          "output_type": "stream",
          "text": [
            "Shape of train_images :  (50000, 32, 32, 3)\n",
            "Max value in train_images :  255\n",
            "Min value in train_images :  0\n"
          ],
          "name": "stdout"
        }
      ]
    },
    {
      "cell_type": "code",
      "metadata": {
        "id": "ytXg7Tj-qlYf",
        "colab_type": "code",
        "colab": {}
      },
      "source": [
        "train_images = train_images.astype('float32') / 255.\n",
        "train_labels_cat = to_categorical(train_labels)\n",
        "test_images = test_images.astype('float32') / 255.\n",
        "test_labels_cat = to_categorical(test_labels)"
      ],
      "execution_count": 0,
      "outputs": []
    },
    {
      "cell_type": "code",
      "metadata": {
        "id": "WSQXWeokrMht",
        "colab_type": "code",
        "colab": {}
      },
      "source": [
        "conv_base = VGG16(weights = 'imagenet',\n",
        "                  include_top = False,\n",
        "                  input_shape = (32,32,3))"
      ],
      "execution_count": 0,
      "outputs": []
    },
    {
      "cell_type": "code",
      "metadata": {
        "id": "TZMom6oqrgWG",
        "colab_type": "code",
        "colab": {}
      },
      "source": [
        "#conv_base.summary()\n",
        "conv_base.trainable = False"
      ],
      "execution_count": 0,
      "outputs": []
    },
    {
      "cell_type": "code",
      "metadata": {
        "id": "JKkuIzkGrsQ_",
        "colab_type": "code",
        "colab": {}
      },
      "source": [
        "def build_model():\n",
        "  model = models.Sequential()\n",
        "  model.add(conv_base)\n",
        "  model.add(layers.Flatten())\n",
        "  model.add(layers.Dense(256,activation='relu'))\n",
        "  model.add(layers.Dense(10,activation='sigmoid'))\n",
        "  return model"
      ],
      "execution_count": 0,
      "outputs": []
    },
    {
      "cell_type": "code",
      "metadata": {
        "id": "47YQRO_5scSt",
        "colab_type": "code",
        "colab": {
          "base_uri": "https://localhost:8080/",
          "height": 1000
        },
        "outputId": "feb429ec-ea09-4f23-e723-52262818e4c0"
      },
      "source": [
        "#val_images = train_images[:5000]\n",
        "#val_labels = train_labels_cat[:5000]\n",
        "#partial_train_images = train_images[5000:]\n",
        "#partial_train_labels = train_labels_cat[5000:]\n",
        "model1 = build_model()\n",
        "model1.compile(optimizer='adam',loss='categorical_crossentropy',metrics=['accuracy'])\n",
        "history = model1.fit(train_images,\n",
        "                     train_labels_cat,\n",
        "                     batch_size=64,\n",
        "                     epochs=50)\n",
        "           #validation_data=(val_images, val_labels))"
      ],
      "execution_count": 22,
      "outputs": [
        {
          "output_type": "stream",
          "text": [
            "Epoch 1/50\n",
            "50000/50000 [==============================] - 21s 425us/step - loss: 1.3766 - accuracy: 0.5207\n",
            "Epoch 2/50\n",
            "50000/50000 [==============================] - 21s 414us/step - loss: 1.1872 - accuracy: 0.5846\n",
            "Epoch 3/50\n",
            "50000/50000 [==============================] - 21s 414us/step - loss: 1.1332 - accuracy: 0.6050\n",
            "Epoch 4/50\n",
            "50000/50000 [==============================] - 21s 413us/step - loss: 1.0922 - accuracy: 0.6180\n",
            "Epoch 5/50\n",
            "50000/50000 [==============================] - 21s 416us/step - loss: 1.0537 - accuracy: 0.6314\n",
            "Epoch 6/50\n",
            "50000/50000 [==============================] - 21s 413us/step - loss: 1.0201 - accuracy: 0.6425\n",
            "Epoch 7/50\n",
            "50000/50000 [==============================] - 21s 412us/step - loss: 0.9908 - accuracy: 0.6532\n",
            "Epoch 8/50\n",
            "50000/50000 [==============================] - 21s 416us/step - loss: 0.9624 - accuracy: 0.6638\n",
            "Epoch 9/50\n",
            "50000/50000 [==============================] - 21s 411us/step - loss: 0.9366 - accuracy: 0.6715\n",
            "Epoch 10/50\n",
            "50000/50000 [==============================] - 21s 412us/step - loss: 0.9084 - accuracy: 0.6828\n",
            "Epoch 11/50\n",
            "50000/50000 [==============================] - 21s 411us/step - loss: 0.8830 - accuracy: 0.6912\n",
            "Epoch 12/50\n",
            "50000/50000 [==============================] - 20s 408us/step - loss: 0.8623 - accuracy: 0.6986\n",
            "Epoch 13/50\n",
            "50000/50000 [==============================] - 20s 408us/step - loss: 0.8388 - accuracy: 0.7072\n",
            "Epoch 14/50\n",
            "50000/50000 [==============================] - 20s 406us/step - loss: 0.8153 - accuracy: 0.7142\n",
            "Epoch 15/50\n",
            "50000/50000 [==============================] - 20s 408us/step - loss: 0.7947 - accuracy: 0.7221\n",
            "Epoch 16/50\n",
            "50000/50000 [==============================] - 21s 410us/step - loss: 0.7730 - accuracy: 0.7304\n",
            "Epoch 17/50\n",
            "50000/50000 [==============================] - 21s 411us/step - loss: 0.7563 - accuracy: 0.7366\n",
            "Epoch 18/50\n",
            "50000/50000 [==============================] - 21s 411us/step - loss: 0.7338 - accuracy: 0.7430\n",
            "Epoch 19/50\n",
            "50000/50000 [==============================] - 21s 410us/step - loss: 0.7124 - accuracy: 0.7537\n",
            "Epoch 20/50\n",
            "50000/50000 [==============================] - 21s 413us/step - loss: 0.6965 - accuracy: 0.7571\n",
            "Epoch 21/50\n",
            "50000/50000 [==============================] - 21s 411us/step - loss: 0.6763 - accuracy: 0.7681\n",
            "Epoch 22/50\n",
            "50000/50000 [==============================] - 21s 410us/step - loss: 0.6644 - accuracy: 0.7706\n",
            "Epoch 23/50\n",
            "50000/50000 [==============================] - 21s 417us/step - loss: 0.6409 - accuracy: 0.7793\n",
            "Epoch 24/50\n",
            "50000/50000 [==============================] - 21s 411us/step - loss: 0.6267 - accuracy: 0.7848\n",
            "Epoch 25/50\n",
            "50000/50000 [==============================] - 21s 411us/step - loss: 0.6125 - accuracy: 0.7907\n",
            "Epoch 26/50\n",
            "50000/50000 [==============================] - 21s 411us/step - loss: 0.5939 - accuracy: 0.7961\n",
            "Epoch 27/50\n",
            "50000/50000 [==============================] - 21s 411us/step - loss: 0.5758 - accuracy: 0.8029\n",
            "Epoch 28/50\n",
            "50000/50000 [==============================] - 20s 410us/step - loss: 0.5616 - accuracy: 0.8081\n",
            "Epoch 29/50\n",
            "50000/50000 [==============================] - 21s 411us/step - loss: 0.5500 - accuracy: 0.8109\n",
            "Epoch 30/50\n",
            "50000/50000 [==============================] - 20s 410us/step - loss: 0.5369 - accuracy: 0.8154\n",
            "Epoch 31/50\n",
            "50000/50000 [==============================] - 21s 410us/step - loss: 0.5194 - accuracy: 0.8235\n",
            "Epoch 32/50\n",
            "50000/50000 [==============================] - 20s 409us/step - loss: 0.5075 - accuracy: 0.8269\n",
            "Epoch 33/50\n",
            "50000/50000 [==============================] - 20s 408us/step - loss: 0.4922 - accuracy: 0.8326\n",
            "Epoch 34/50\n",
            "50000/50000 [==============================] - 20s 409us/step - loss: 0.4802 - accuracy: 0.8375\n",
            "Epoch 35/50\n",
            "50000/50000 [==============================] - 21s 413us/step - loss: 0.4658 - accuracy: 0.8430\n",
            "Epoch 36/50\n",
            "50000/50000 [==============================] - 20s 409us/step - loss: 0.4543 - accuracy: 0.8468\n",
            "Epoch 37/50\n",
            "50000/50000 [==============================] - 20s 409us/step - loss: 0.4403 - accuracy: 0.8523\n",
            "Epoch 38/50\n",
            "50000/50000 [==============================] - 21s 415us/step - loss: 0.4317 - accuracy: 0.8543\n",
            "Epoch 39/50\n",
            "50000/50000 [==============================] - 21s 413us/step - loss: 0.4188 - accuracy: 0.8590\n",
            "Epoch 40/50\n",
            "50000/50000 [==============================] - 21s 410us/step - loss: 0.4086 - accuracy: 0.8624\n",
            "Epoch 41/50\n",
            "50000/50000 [==============================] - 21s 411us/step - loss: 0.3968 - accuracy: 0.8688\n",
            "Epoch 42/50\n",
            "50000/50000 [==============================] - 20s 409us/step - loss: 0.3881 - accuracy: 0.8694\n",
            "Epoch 43/50\n",
            "50000/50000 [==============================] - 21s 411us/step - loss: 0.3795 - accuracy: 0.8744\n",
            "Epoch 44/50\n",
            "50000/50000 [==============================] - 21s 413us/step - loss: 0.3690 - accuracy: 0.8776\n",
            "Epoch 45/50\n",
            "50000/50000 [==============================] - 21s 411us/step - loss: 0.3561 - accuracy: 0.8818\n",
            "Epoch 46/50\n",
            "50000/50000 [==============================] - 21s 412us/step - loss: 0.3459 - accuracy: 0.8860\n",
            "Epoch 47/50\n",
            "50000/50000 [==============================] - 21s 412us/step - loss: 0.3388 - accuracy: 0.8862\n",
            "Epoch 48/50\n",
            "50000/50000 [==============================] - 21s 411us/step - loss: 0.3302 - accuracy: 0.8914\n",
            "Epoch 49/50\n",
            "50000/50000 [==============================] - 21s 410us/step - loss: 0.3200 - accuracy: 0.8940\n",
            "Epoch 50/50\n",
            "50000/50000 [==============================] - 21s 415us/step - loss: 0.3112 - accuracy: 0.8981\n"
          ],
          "name": "stdout"
        }
      ]
    },
    {
      "cell_type": "code",
      "metadata": {
        "id": "iTEYXKb3vZ4e",
        "colab_type": "code",
        "colab": {
          "base_uri": "https://localhost:8080/",
          "height": 35
        },
        "outputId": "47369027-84d8-44b4-9305-6424f14eedbd"
      },
      "source": [
        "history_dict = history.history\n",
        "history_dict.keys()"
      ],
      "execution_count": 8,
      "outputs": [
        {
          "output_type": "execute_result",
          "data": {
            "text/plain": [
              "dict_keys(['val_loss', 'val_accuracy', 'loss', 'accuracy'])"
            ]
          },
          "metadata": {
            "tags": []
          },
          "execution_count": 8
        }
      ]
    },
    {
      "cell_type": "code",
      "metadata": {
        "id": "ft_mHK1zvpDj",
        "colab_type": "code",
        "colab": {
          "base_uri": "https://localhost:8080/",
          "height": 577
        },
        "outputId": "0c7e3366-74d0-4f97-8e36-60f8b4de85d1"
      },
      "source": [
        "val_loss = history_dict['val_loss']\n",
        "train_loss = history_dict['loss']\n",
        "val_acc = history_dict['val_accuracy']\n",
        "train_acc = history_dict['accuracy']\n",
        "\n",
        "epoch_num = range(1,len(val_acc)+1)\n",
        "\n",
        "plt.plot(epoch_num,train_acc,'k-.',label=\"Training Accuracy\")\n",
        "plt.plot(epoch_num,val_acc,'r--',label=\"Validation Accuracy\")\n",
        "plt.title(\"Training and Validation Accuracy\")\n",
        "plt.xlabel(\"Epochs\")\n",
        "plt.ylabel(\"Accuracy\")\n",
        "plt.legend()\n",
        "plt.tight_layout()\n",
        "\n",
        "plt.figure()\n",
        "\n",
        "plt.plot(epoch_num,train_loss,'k-.',label=\"Training Loss\")\n",
        "plt.plot(epoch_num,val_loss,'r--',label=\"Validation Loss\")\n",
        "plt.title(\"Training and Validation Loss\")\n",
        "plt.xlabel(\"Epochs\")\n",
        "plt.ylabel(\"Loss\")\n",
        "plt.legend()\n",
        "plt.tight_layout()"
      ],
      "execution_count": 9,
      "outputs": [
        {
          "output_type": "display_data",
          "data": {
            "image/png": "[encoded data removed]",
            "text/plain": [
              "<Figure size 432x288 with 1 Axes>"
            ]
          },
          "metadata": {
            "tags": [],
            "needs_background": "light"
          }
        },
        {
          "output_type": "display_data",
          "data": {
            "image/png": "[encoded data removed]",
            "text/plain": [
              "<Figure size 432x288 with 1 Axes>"
            ]
          },
          "metadata": {
            "tags": [],
            "needs_background": "light"
          }
        }
      ]
    },
    {
      "cell_type": "code",
      "metadata": {
        "id": "N_26M-sOBRjH",
        "colab_type": "code",
        "colab": {
          "base_uri": "https://localhost:8080/",
          "height": 35
        },
        "outputId": "5e4b4ee8-5dc9-4004-d89a-a98e5d598bd5"
      },
      "source": [
        "result = model1.evaluate(test_images,test_labels_cat)"
      ],
      "execution_count": 23,
      "outputs": [
        {
          "output_type": "stream",
          "text": [
            "10000/10000 [==============================] - 6s 554us/step\n"
          ],
          "name": "stdout"
        }
      ]
    },
    {
      "cell_type": "code",
      "metadata": {
        "id": "ru6wctNtBua9",
        "colab_type": "code",
        "colab": {
          "base_uri": "https://localhost:8080/",
          "height": 35
        },
        "outputId": "87e9d95a-66f5-46e1-ad48-a7377a2a2e58"
      },
      "source": [
        "result"
      ],
      "execution_count": 24,
      "outputs": [
        {
          "output_type": "execute_result",
          "data": {
            "text/plain": [
              "[1.724895093536377, 0.5925999879837036]"
            ]
          },
          "metadata": {
            "tags": []
          },
          "execution_count": 24
        }
      ]
    },
    {
      "cell_type": "markdown",
      "metadata": {
        "id": "IOrXTYAqIScT",
        "colab_type": "text"
      },
      "source": [
        "VGG16 did not help. Overfitting is very much evident\n",
        "\n",
        "\n",
        "> Need to try data augmentation\n",
        "\n",
        "\n",
        "> Drop out and Batchnormalization\n",
        "\n",
        "\n",
        "> Need to reach accuracy of 80% on Test set.\n",
        "\n",
        "\n",
        "\n",
        "\n",
        "\n"
      ]
    },
    {
      "cell_type": "code",
      "metadata": {
        "id": "R3AkOAwRBwT1",
        "colab_type": "code",
        "colab": {}
      },
      "source": [
        ""
      ],
      "execution_count": 0,
      "outputs": []
    }
  ]
}