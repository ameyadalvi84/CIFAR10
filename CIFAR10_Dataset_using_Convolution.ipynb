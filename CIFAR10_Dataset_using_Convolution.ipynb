{
  "nbformat": 4,
  "nbformat_minor": 0,
  "metadata": {
    "colab": {
      "name": "CIFAR10 Dataset using Convolution.ipynb",
      "provenance": [],
      "collapsed_sections": [],
      "authorship_tag": "ABX9TyOoX/vlk8pm583K/7PsDo3l",
      "include_colab_link": true
    },
    "kernelspec": {
      "name": "python3",
      "display_name": "Python 3"
    },
    "accelerator": "GPU"
  },
  "cells": [
    {
      "cell_type": "markdown",
      "metadata": {
        "id": "view-in-github",
        "colab_type": "text"
      },
      "source": [
        "<a href=\"https://colab.research.google.com/github/ameyadalvi84/CIFAR10/blob/master/CIFAR10_Dataset_using_Convolution.ipynb\" target=\"_parent\"><img src=\"https://colab.research.google.com/assets/colab-badge.svg\" alt=\"Open In Colab\"/></a>"
      ]
    },
    {
      "cell_type": "markdown",
      "metadata": {
        "id": "3vFGM1UW3DYp",
        "colab_type": "text"
      },
      "source": [
        "CIFAR10 data set in Keras"
      ]
    },
    {
      "cell_type": "code",
      "metadata": {
        "id": "CcwYdPVd2Il7",
        "colab_type": "code",
        "outputId": "c38f7e62-a3ef-4c5c-b15e-c13b4b2f29dc",
        "colab": {
          "base_uri": "https://localhost:8080/",
          "height": 92
        }
      },
      "source": [
        "import keras as K\n",
        "from keras import models\n",
        "from keras import layers\n",
        "from keras.datasets import cifar10\n",
        "from keras.utils import to_categorical\n",
        "import numpy as np\n",
        "import seaborn as sns\n",
        "import matplotlib.pyplot as plt\n",
        "from sklearn.metrics import confusion_matrix, classification_report\n",
        "%matplotlib inline"
      ],
      "execution_count": 2,
      "outputs": [
        {
          "output_type": "stream",
          "text": [
            "Using TensorFlow backend.\n",
            "/usr/local/lib/python3.6/dist-packages/statsmodels/tools/_testing.py:19: FutureWarning: pandas.util.testing is deprecated. Use the functions in the public API at pandas.testing instead.\n",
            "  import pandas.util.testing as tm\n"
          ],
          "name": "stderr"
        }
      ]
    },
    {
      "cell_type": "code",
      "metadata": {
        "id": "5sfa6ajA4kqT",
        "colab_type": "code",
        "outputId": "7df5ce72-3d8f-4fbc-c131-77b247ffcfc6",
        "colab": {
          "base_uri": "https://localhost:8080/",
          "height": 109
        }
      },
      "source": [
        "(train_images,train_labels),(test_images,test_labels) = cifar10.load_data()\n",
        "print(\"Shape of train_images : \", train_images.shape)\n",
        "print(\"Max value in train_images : \", train_images.max())\n",
        "print(\"Min value in train_images : \", train_images.min())"
      ],
      "execution_count": 3,
      "outputs": [
        {
          "output_type": "stream",
          "text": [
            "Downloading data from https://www.cs.toronto.edu/~kriz/cifar-10-python.tar.gz\n",
            "170500096/170498071 [==============================] - 6s 0us/step\n",
            "Shape of train_images :  (50000, 32, 32, 3)\n",
            "Max value in train_images :  255\n",
            "Min value in train_images :  0\n"
          ],
          "name": "stdout"
        }
      ]
    },
    {
      "cell_type": "code",
      "metadata": {
        "id": "eCg2Pc_35XJ3",
        "colab_type": "code",
        "outputId": "58bbd09a-aa36-484f-9144-de5ad41af284",
        "colab": {
          "base_uri": "https://localhost:8080/",
          "height": 338
        }
      },
      "source": [
        "import random\n",
        "\n",
        "random.seed(123456)\n",
        "indx = random.randint(1,10)\n",
        "plt.imshow(train_images[indx],cmap=plt.cm.brg)\n",
        "plt.title(train_labels[indx])\n",
        "plt.show()"
      ],
      "execution_count": 4,
      "outputs": [
        {
          "output_type": "stream",
          "text": [
            "/usr/local/lib/python3.6/dist-packages/matplotlib/text.py:1165: FutureWarning: elementwise comparison failed; returning scalar instead, but in the future will perform elementwise comparison\n",
            "  if s != self._text:\n"
          ],
          "name": "stderr"
        },
        {
          "output_type": "display_data",
          "data": {
            "image/png": "[encoded data removed]",
            "text/plain": [
              "<Figure size 432x288 with 1 Axes>"
            ]
          },
          "metadata": {
            "tags": [],
            "needs_background": "light"
          }
        }
      ]
    },
    {
      "cell_type": "code",
      "metadata": {
        "id": "ramg4hIc635g",
        "colab_type": "code",
        "colab": {}
      },
      "source": [
        "train_images = train_images.astype('float32') / train_images.max()\n",
        "train_labels_cat = to_categorical(train_labels)\n",
        "test_images = test_images.astype('float32') / train_images.max()\n",
        "test_labels_cat = to_categorical(test_labels)"
      ],
      "execution_count": 0,
      "outputs": []
    },
    {
      "cell_type": "code",
      "metadata": {
        "id": "SJ6ysi2p8wkB",
        "colab_type": "code",
        "colab": {}
      },
      "source": [
        "def build_model():\n",
        "  model = models.Sequential()\n",
        "  model.add(layers.Conv2D(128,(3,3),activation='relu',input_shape=(32,32,3)))\n",
        "  model.add(layers.MaxPool2D())\n",
        "  #model.add(layers.BatchNormalization())\n",
        "  model.add(layers.Conv2D(128,(3,3),activation='relu'))\n",
        "  model.add(layers.MaxPool2D())\n",
        "  model.add(layers.Conv2D(64,(3,3),padding='same',activation='relu'))\n",
        "  model.add(layers.MaxPool2D())\n",
        "  model.add(layers.Conv2D(64,(3,3),activation='relu'))\n",
        "  model.add(layers.Flatten())\n",
        "  model.add(layers.Dense(128,activation='relu'))\n",
        "  model.add(layers.Dense(64,activation='relu'))\n",
        "  model.add(layers.Dense(10,activation='softmax'))\n",
        "  model.compile(optimizer = 'adam', loss = 'categorical_crossentropy', metrics=['accuracy'])\n",
        "  return model"
      ],
      "execution_count": 0,
      "outputs": []
    },
    {
      "cell_type": "code",
      "metadata": {
        "id": "AEnqcHEQAcqp",
        "colab_type": "code",
        "outputId": "fc427ade-1ee9-41a6-e2ee-b22d8c9e170d",
        "colab": {
          "base_uri": "https://localhost:8080/",
          "height": 1000
        }
      },
      "source": [
        "num_val_records = 5000\n",
        "epoch = 30\n",
        "val_images = train_images[:num_val_records]\n",
        "val_labels = train_labels_cat[:num_val_records]\n",
        "partial_train_images = train_images[num_val_records:]\n",
        "partial_train_labels = train_labels_cat[num_val_records:]\n",
        "model1 = build_model()\n",
        "history = model1.fit(partial_train_images,\n",
        "                     partial_train_labels,\n",
        "                     batch_size=128,\n",
        "                     epochs=epoch,\n",
        "                     validation_data=(val_images,val_labels))"
      ],
      "execution_count": 7,
      "outputs": [
        {
          "output_type": "stream",
          "text": [
            "Train on 45000 samples, validate on 5000 samples\n",
            "Epoch 1/30\n",
            "45000/45000 [==============================] - 13s 283us/step - loss: 1.7357 - accuracy: 0.3535 - val_loss: 1.4242 - val_accuracy: 0.4788\n",
            "Epoch 2/30\n",
            "45000/45000 [==============================] - 5s 117us/step - loss: 1.2991 - accuracy: 0.5283 - val_loss: 1.1365 - val_accuracy: 0.5954\n",
            "Epoch 3/30\n",
            "45000/45000 [==============================] - 5s 116us/step - loss: 1.1084 - accuracy: 0.6034 - val_loss: 1.0848 - val_accuracy: 0.6156\n",
            "Epoch 4/30\n",
            "45000/45000 [==============================] - 5s 116us/step - loss: 0.9854 - accuracy: 0.6506 - val_loss: 0.9545 - val_accuracy: 0.6654\n",
            "Epoch 5/30\n",
            "45000/45000 [==============================] - 5s 117us/step - loss: 0.8863 - accuracy: 0.6858 - val_loss: 0.9617 - val_accuracy: 0.6566\n",
            "Epoch 6/30\n",
            "45000/45000 [==============================] - 5s 117us/step - loss: 0.8133 - accuracy: 0.7136 - val_loss: 0.9097 - val_accuracy: 0.6826\n",
            "Epoch 7/30\n",
            "45000/45000 [==============================] - 5s 117us/step - loss: 0.7524 - accuracy: 0.7335 - val_loss: 0.8577 - val_accuracy: 0.7032\n",
            "Epoch 8/30\n",
            "45000/45000 [==============================] - 5s 117us/step - loss: 0.6938 - accuracy: 0.7570 - val_loss: 0.7968 - val_accuracy: 0.7272\n",
            "Epoch 9/30\n",
            "45000/45000 [==============================] - 5s 116us/step - loss: 0.6460 - accuracy: 0.7732 - val_loss: 0.8237 - val_accuracy: 0.7276\n",
            "Epoch 10/30\n",
            "45000/45000 [==============================] - 5s 116us/step - loss: 0.6042 - accuracy: 0.7875 - val_loss: 0.8026 - val_accuracy: 0.7332\n",
            "Epoch 11/30\n",
            "45000/45000 [==============================] - 5s 117us/step - loss: 0.5556 - accuracy: 0.8037 - val_loss: 0.7844 - val_accuracy: 0.7448\n",
            "Epoch 12/30\n",
            "45000/45000 [==============================] - 5s 116us/step - loss: 0.5288 - accuracy: 0.8133 - val_loss: 0.8422 - val_accuracy: 0.7264\n",
            "Epoch 13/30\n",
            "45000/45000 [==============================] - 5s 116us/step - loss: 0.4788 - accuracy: 0.8328 - val_loss: 0.8862 - val_accuracy: 0.7200\n",
            "Epoch 14/30\n",
            "45000/45000 [==============================] - 5s 117us/step - loss: 0.4525 - accuracy: 0.8395 - val_loss: 0.8775 - val_accuracy: 0.7212\n",
            "Epoch 15/30\n",
            "45000/45000 [==============================] - 5s 117us/step - loss: 0.4139 - accuracy: 0.8533 - val_loss: 0.9061 - val_accuracy: 0.7272\n",
            "Epoch 16/30\n",
            "45000/45000 [==============================] - 5s 115us/step - loss: 0.3781 - accuracy: 0.8652 - val_loss: 0.9028 - val_accuracy: 0.7326\n",
            "Epoch 17/30\n",
            "45000/45000 [==============================] - 5s 116us/step - loss: 0.3542 - accuracy: 0.8736 - val_loss: 0.9362 - val_accuracy: 0.7390\n",
            "Epoch 18/30\n",
            "45000/45000 [==============================] - 5s 117us/step - loss: 0.3223 - accuracy: 0.8860 - val_loss: 0.9931 - val_accuracy: 0.7260\n",
            "Epoch 19/30\n",
            "45000/45000 [==============================] - 5s 119us/step - loss: 0.3107 - accuracy: 0.8891 - val_loss: 0.9796 - val_accuracy: 0.7350\n",
            "Epoch 20/30\n",
            "45000/45000 [==============================] - 5s 118us/step - loss: 0.2883 - accuracy: 0.8982 - val_loss: 1.0825 - val_accuracy: 0.7288\n",
            "Epoch 21/30\n",
            "45000/45000 [==============================] - 5s 118us/step - loss: 0.2625 - accuracy: 0.9064 - val_loss: 1.0621 - val_accuracy: 0.7360\n",
            "Epoch 22/30\n",
            "45000/45000 [==============================] - 5s 118us/step - loss: 0.2397 - accuracy: 0.9157 - val_loss: 1.1200 - val_accuracy: 0.7328\n",
            "Epoch 23/30\n",
            "45000/45000 [==============================] - 5s 119us/step - loss: 0.2392 - accuracy: 0.9144 - val_loss: 1.1241 - val_accuracy: 0.7280\n",
            "Epoch 24/30\n",
            "45000/45000 [==============================] - 5s 118us/step - loss: 0.2095 - accuracy: 0.9243 - val_loss: 1.1794 - val_accuracy: 0.7304\n",
            "Epoch 25/30\n",
            "45000/45000 [==============================] - 5s 118us/step - loss: 0.2084 - accuracy: 0.9251 - val_loss: 1.2151 - val_accuracy: 0.7232\n",
            "Epoch 26/30\n",
            "45000/45000 [==============================] - 5s 117us/step - loss: 0.1944 - accuracy: 0.9295 - val_loss: 1.2640 - val_accuracy: 0.7330\n",
            "Epoch 27/30\n",
            "45000/45000 [==============================] - 5s 118us/step - loss: 0.1784 - accuracy: 0.9355 - val_loss: 1.2686 - val_accuracy: 0.7324\n",
            "Epoch 28/30\n",
            "45000/45000 [==============================] - 5s 117us/step - loss: 0.1705 - accuracy: 0.9403 - val_loss: 1.3654 - val_accuracy: 0.7224\n",
            "Epoch 29/30\n",
            "45000/45000 [==============================] - 5s 117us/step - loss: 0.1521 - accuracy: 0.9456 - val_loss: 1.3513 - val_accuracy: 0.7336\n",
            "Epoch 30/30\n",
            "45000/45000 [==============================] - 5s 118us/step - loss: 0.1560 - accuracy: 0.9443 - val_loss: 1.4344 - val_accuracy: 0.7248\n"
          ],
          "name": "stdout"
        }
      ]
    },
    {
      "cell_type": "code",
      "metadata": {
        "id": "CqOH9mPiDM8v",
        "colab_type": "code",
        "outputId": "59650c1a-678b-44b7-8489-9630d66c0abc",
        "colab": {
          "base_uri": "https://localhost:8080/",
          "height": 568
        }
      },
      "source": [
        "model1.summary()"
      ],
      "execution_count": 8,
      "outputs": [
        {
          "output_type": "stream",
          "text": [
            "Model: \"sequential_1\"\n",
            "_________________________________________________________________\n",
            "Layer (type)                 Output Shape              Param #   \n",
            "=================================================================\n",
            "conv2d_1 (Conv2D)            (None, 30, 30, 128)       3584      \n",
            "_________________________________________________________________\n",
            "max_pooling2d_1 (MaxPooling2 (None, 15, 15, 128)       0         \n",
            "_________________________________________________________________\n",
            "conv2d_2 (Conv2D)            (None, 13, 13, 128)       147584    \n",
            "_________________________________________________________________\n",
            "max_pooling2d_2 (MaxPooling2 (None, 6, 6, 128)         0         \n",
            "_________________________________________________________________\n",
            "conv2d_3 (Conv2D)            (None, 6, 6, 64)          73792     \n",
            "_________________________________________________________________\n",
            "max_pooling2d_3 (MaxPooling2 (None, 3, 3, 64)          0         \n",
            "_________________________________________________________________\n",
            "conv2d_4 (Conv2D)            (None, 1, 1, 64)          36928     \n",
            "_________________________________________________________________\n",
            "flatten_1 (Flatten)          (None, 64)                0         \n",
            "_________________________________________________________________\n",
            "dense_1 (Dense)              (None, 128)               8320      \n",
            "_________________________________________________________________\n",
            "dense_2 (Dense)              (None, 64)                8256      \n",
            "_________________________________________________________________\n",
            "dense_3 (Dense)              (None, 10)                650       \n",
            "=================================================================\n",
            "Total params: 279,114\n",
            "Trainable params: 279,114\n",
            "Non-trainable params: 0\n",
            "_________________________________________________________________\n"
          ],
          "name": "stdout"
        }
      ]
    },
    {
      "cell_type": "code",
      "metadata": {
        "id": "M32IHAw-EOG1",
        "colab_type": "code",
        "outputId": "29f5bd99-7e5d-474d-d856-23b29c34c234",
        "colab": {
          "base_uri": "https://localhost:8080/",
          "height": 35
        }
      },
      "source": [
        "history_dict = history.history\n",
        "history_dict.keys()"
      ],
      "execution_count": 9,
      "outputs": [
        {
          "output_type": "execute_result",
          "data": {
            "text/plain": [
              "dict_keys(['val_loss', 'val_accuracy', 'loss', 'accuracy'])"
            ]
          },
          "metadata": {
            "tags": []
          },
          "execution_count": 9
        }
      ]
    },
    {
      "cell_type": "code",
      "metadata": {
        "id": "xdCqXq0qEm3w",
        "colab_type": "code",
        "outputId": "61d50f3f-cdc4-463b-cbf2-9a4a1348dd89",
        "colab": {
          "base_uri": "https://localhost:8080/",
          "height": 297
        }
      },
      "source": [
        "val_acc = history_dict['val_accuracy']\n",
        "train_acc = history_dict['accuracy']\n",
        "epoch_num = range(1,len(train_acc)+1)\n",
        "\n",
        "plt.plot(epoch_num,val_acc,'r--', label=\"Valication Accuracy\")\n",
        "plt.plot(epoch_num,train_acc,'k-.',label=\"Training Accuracy\")\n",
        "plt.xlabel(\"Epochs\")\n",
        "plt.ylabel('Accuracy')\n",
        "plt.title(\"Training Vs Validation Accuracy\")\n",
        "plt.legend()\n",
        "plt.tight_layout()\n",
        "plt.show()"
      ],
      "execution_count": 10,
      "outputs": [
        {
          "output_type": "display_data",
          "data": {
            "image/png": "[encoded data removed]",
            "text/plain": [
              "<Figure size 432x288 with 1 Axes>"
            ]
          },
          "metadata": {
            "tags": [],
            "needs_background": "light"
          }
        }
      ]
    },
    {
      "cell_type": "code",
      "metadata": {
        "id": "KmejiyNMF810",
        "colab_type": "code",
        "colab": {
          "base_uri": "https://localhost:8080/",
          "height": 54
        },
        "outputId": "5f585fbf-0276-4fc4-a099-c229d20e295d"
      },
      "source": [
        "result = model1.evaluate(test_images,test_labels_cat)\n",
        "result"
      ],
      "execution_count": 11,
      "outputs": [
        {
          "output_type": "stream",
          "text": [
            "10000/10000 [==============================] - 1s 125us/step\n"
          ],
          "name": "stdout"
        },
        {
          "output_type": "execute_result",
          "data": {
            "text/plain": [
              "[568.4104721191406, 0.5228999853134155]"
            ]
          },
          "metadata": {
            "tags": []
          },
          "execution_count": 11
        }
      ]
    },
    {
      "cell_type": "markdown",
      "metadata": {
        "id": "f_ts8zTHdz9l",
        "colab_type": "text"
      },
      "source": [
        "Thoughts.\n",
        "\n",
        "\n",
        "> Need to try some regularization techniques\n",
        "\n",
        "\n",
        "> Try Drop outs\n",
        "\n",
        "\n",
        "> Try augmentation\n",
        "\n",
        "\n",
        "> Try some different architecture like Resnet\n",
        "\n",
        "\n",
        "\n",
        "\n",
        "\n",
        "\n"
      ]
    },
    {
      "cell_type": "code",
      "metadata": {
        "id": "lFLC3VD8cfKH",
        "colab_type": "code",
        "colab": {}
      },
      "source": [
        ""
      ],
      "execution_count": 0,
      "outputs": []
    }
  ]
}